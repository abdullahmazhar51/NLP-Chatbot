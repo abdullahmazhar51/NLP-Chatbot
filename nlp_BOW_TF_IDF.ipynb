{
  "nbformat": 4,
  "nbformat_minor": 0,
  "metadata": {
    "colab": {
      "name": "nlp - BOW/TF-IDF",
      "provenance": [],
      "collapsed_sections": [],
      "authorship_tag": "ABX9TyP/oW/Jhg6ub9KflJtCXESu",
      "include_colab_link": true
    },
    "kernelspec": {
      "name": "python3",
      "display_name": "Python 3"
    }
  },
  "cells": [
    {
      "cell_type": "markdown",
      "metadata": {
        "id": "view-in-github",
        "colab_type": "text"
      },
      "source": [
        "<a href=\"https://colab.research.google.com/github/abdullahmazhar51/NLP-PATTERN/blob/master/nlp_BOW_TF_IDF.ipynb\" target=\"_parent\"><img src=\"https://colab.research.google.com/assets/colab-badge.svg\" alt=\"Open In Colab\"/></a>"
      ]
    },
    {
      "cell_type": "code",
      "metadata": {
        "id": "2TUUM62xhBuF",
        "colab_type": "code",
        "colab": {}
      },
      "source": [
        "from nltk.tokenize import word_tokenize"
      ],
      "execution_count": 0,
      "outputs": []
    },
    {
      "cell_type": "code",
      "metadata": {
        "id": "fiG8_JujhgpD",
        "colab_type": "code",
        "outputId": "b7142c46-7c1a-49ae-fabc-10fa18efebfc",
        "colab": {
          "base_uri": "https://localhost:8080/",
          "height": 102
        }
      },
      "source": [
        "import nltk\n",
        "nltk.download('punkt')\n",
        "nltk.download('stopwords')"
      ],
      "execution_count": 0,
      "outputs": [
        {
          "output_type": "stream",
          "text": [
            "[nltk_data] Downloading package punkt to /root/nltk_data...\n",
            "[nltk_data]   Unzipping tokenizers/punkt.zip.\n",
            "[nltk_data] Downloading package stopwords to /root/nltk_data...\n",
            "[nltk_data]   Unzipping corpora/stopwords.zip.\n"
          ],
          "name": "stdout"
        },
        {
          "output_type": "execute_result",
          "data": {
            "text/plain": [
              "True"
            ]
          },
          "metadata": {
            "tags": []
          },
          "execution_count": 2
        }
      ]
    },
    {
      "cell_type": "code",
      "metadata": {
        "id": "mn8jzFXOhIf2",
        "colab_type": "code",
        "colab": {}
      },
      "source": [
        "text = \"my name is khan! and i am not a terrorist :)\""
      ],
      "execution_count": 0,
      "outputs": []
    },
    {
      "cell_type": "code",
      "metadata": {
        "id": "89HA-qSmhP5P",
        "colab_type": "code",
        "outputId": "66f37755-9f17-40df-c690-570327e22cc1",
        "colab": {
          "base_uri": "https://localhost:8080/",
          "height": 34
        }
      },
      "source": [
        "print(word_tokenize(text))"
      ],
      "execution_count": 0,
      "outputs": [
        {
          "output_type": "stream",
          "text": [
            "['my', 'name', 'is', 'khan', '!', 'and', 'i', 'am', 'not', 'a', 'terrorist', ':', ')']\n"
          ],
          "name": "stdout"
        }
      ]
    },
    {
      "cell_type": "code",
      "metadata": {
        "id": "VvUNeHdMhU4R",
        "colab_type": "code",
        "colab": {}
      },
      "source": [
        "import re\n",
        "import numpy as np\n"
      ],
      "execution_count": 0,
      "outputs": []
    },
    {
      "cell_type": "code",
      "metadata": {
        "id": "sZE70ILhkt4U",
        "colab_type": "code",
        "colab": {}
      },
      "source": [
        "text = ['it was the best of times in times of india',\n",
        " 'it was the worst of times in times of europe',\n",
        " 'it was the age of wisdom for age of empire',\n",
        " 'it was the age of foolishness in the age of foolishness']\n"
      ],
      "execution_count": 0,
      "outputs": []
    },
    {
      "cell_type": "code",
      "metadata": {
        "id": "kSqrt7Lnk9Tz",
        "colab_type": "code",
        "colab": {}
      },
      "source": [
        "from nltk.tokenize import sent_tokenize"
      ],
      "execution_count": 0,
      "outputs": []
    },
    {
      "cell_type": "code",
      "metadata": {
        "id": "9Y1ziW6Ch7KS",
        "colab_type": "code",
        "colab": {}
      },
      "source": [
        "from nltk.corpus import stopwords"
      ],
      "execution_count": 0,
      "outputs": []
    },
    {
      "cell_type": "code",
      "metadata": {
        "id": "e16rocd8IZer",
        "colab_type": "code",
        "colab": {}
      },
      "source": [
        "import numpy as np"
      ],
      "execution_count": 0,
      "outputs": []
    },
    {
      "cell_type": "markdown",
      "metadata": {
        "id": "kh7EcCeHi7Kh",
        "colab_type": "text"
      },
      "source": [
        "Tokenization"
      ]
    },
    {
      "cell_type": "code",
      "metadata": {
        "id": "WUWtVdOslQsL",
        "colab_type": "code",
        "outputId": "290c8b20-0db3-48ec-9841-d8b21b5c21a8",
        "colab": {
          "base_uri": "https://localhost:8080/",
          "height": 272
        }
      },
      "source": [
        " token = []\n",
        " for i in range(len(text)):\n",
        "  word = []\n",
        "  text[i] = text[i].lower()\n",
        "  text[i] = re.sub(r'\\W', \" \", text[i])\n",
        "  text[i] = re.sub(r'\\s+', \" \", text[i])\n",
        "  word = word_tokenize(text[i])\n",
        "\n",
        "  for w in word:\n",
        "   if w not in token:\n",
        "     token.append(w)\n",
        "    \n",
        "\n",
        "token"
      ],
      "execution_count": 0,
      "outputs": [
        {
          "output_type": "execute_result",
          "data": {
            "text/plain": [
              "['it',\n",
              " 'was',\n",
              " 'the',\n",
              " 'best',\n",
              " 'of',\n",
              " 'times',\n",
              " 'in',\n",
              " 'india',\n",
              " 'worst',\n",
              " 'europe',\n",
              " 'age',\n",
              " 'wisdom',\n",
              " 'for',\n",
              " 'empire',\n",
              " 'foolishness']"
            ]
          },
          "metadata": {
            "tags": []
          },
          "execution_count": 51
        }
      ]
    },
    {
      "cell_type": "markdown",
      "metadata": {
        "id": "6tB8nr75jMUq",
        "colab_type": "text"
      },
      "source": [
        "Stopwords"
      ]
    },
    {
      "cell_type": "code",
      "metadata": {
        "id": "EyJt8kG3i4x1",
        "colab_type": "code",
        "colab": {}
      },
      "source": [
        "\n",
        "ignore = set(stopwords.words(\"english\"))\n",
        "\n",
        "clean_text = [t for t in token  if t not in ignore]\n",
        "\n",
        " "
      ],
      "execution_count": 0,
      "outputs": []
    },
    {
      "cell_type": "code",
      "metadata": {
        "id": "TAgNgdxdJX5K",
        "colab_type": "code",
        "outputId": "d45697f9-3a48-4da3-c600-56899b481fa8",
        "colab": {
          "base_uri": "https://localhost:8080/",
          "height": 170
        }
      },
      "source": [
        "clean_text"
      ],
      "execution_count": 0,
      "outputs": [
        {
          "output_type": "execute_result",
          "data": {
            "text/plain": [
              "['best',\n",
              " 'times',\n",
              " 'india',\n",
              " 'worst',\n",
              " 'europe',\n",
              " 'age',\n",
              " 'wisdom',\n",
              " 'empire',\n",
              " 'foolishness']"
            ]
          },
          "metadata": {
            "tags": []
          },
          "execution_count": 59
        }
      ]
    },
    {
      "cell_type": "code",
      "metadata": {
        "id": "PKgBtqqWJB87",
        "colab_type": "code",
        "colab": {}
      },
      "source": [
        "it was the best time in india: [1 1 1 0 0]\n",
        "it was the worst time in europe time: [0 2 0 1 1]\n",
        "[best time india worst europe]"
      ],
      "execution_count": 0,
      "outputs": []
    },
    {
      "cell_type": "markdown",
      "metadata": {
        "id": "Neky9Rg6jo8q",
        "colab_type": "text"
      },
      "source": [
        "**Bag of Words**"
      ]
    },
    {
      "cell_type": "code",
      "metadata": {
        "id": "fM_0QZLBpBdo",
        "colab_type": "code",
        "colab": {
          "base_uri": "https://localhost:8080/",
          "height": 85
        },
        "outputId": "34734684-ce0f-4a2d-83d1-f0e71e93566b"
      },
      "source": [
        "for t in text:\n",
        "  bag_vector = np.zeros(len(clean_text))\n",
        "  for i,word in enumerate(clean_text):\n",
        "    if word in t:\n",
        "      bag_vector[i] += 1\n",
        "  print(bag_vector)"
      ],
      "execution_count": 60,
      "outputs": [
        {
          "output_type": "stream",
          "text": [
            "[1. 1. 1. 0. 0. 0. 0. 0. 0.]\n",
            "[0. 1. 0. 1. 1. 0. 0. 0. 0.]\n",
            "[0. 0. 0. 0. 0. 1. 1. 1. 0.]\n",
            "[0. 0. 0. 0. 0. 1. 0. 0. 1.]\n"
          ],
          "name": "stdout"
        }
      ]
    },
    {
      "cell_type": "code",
      "metadata": {
        "id": "Dae5lh4CqSqZ",
        "colab_type": "code",
        "colab": {}
      },
      "source": [
        ""
      ],
      "execution_count": 0,
      "outputs": []
    }
  ]
}