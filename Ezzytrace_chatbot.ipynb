{
  "nbformat": 4,
  "nbformat_minor": 0,
  "metadata": {
    "colab": {
      "name": "Ezzytrace chatbot.ipynb",
      "provenance": [],
      "authorship_tag": "ABX9TyMtsirmv+cM+Va83QzoOJZb",
      "include_colab_link": true
    },
    "kernelspec": {
      "name": "python3",
      "display_name": "Python 3"
    }
  },
  "cells": [
    {
      "cell_type": "markdown",
      "metadata": {
        "id": "view-in-github",
        "colab_type": "text"
      },
      "source": [
        "<a href=\"https://colab.research.google.com/github/abdullahmazhar51/NLP-PATTERN/blob/master/Ezzytrace_chatbot.ipynb\" target=\"_parent\"><img src=\"https://colab.research.google.com/assets/colab-badge.svg\" alt=\"Open In Colab\"/></a>"
      ]
    },
    {
      "cell_type": "code",
      "metadata": {
        "id": "sJgd3IDfP52-"
      },
      "source": [
        "import numpy as np\r\n",
        "import random\r\n",
        "import nltk\r\n",
        "from nltk.stem import WordNetLemmatizer\r\n",
        "lemmatizer = WordNetLemmatizer()\r\n",
        "import json\r\n",
        "import pickle\r\n",
        "from nltk.tokenize import sent_tokenize, word_tokenize\r\n",
        "from nltk.corpus import stopwords\r\n",
        "import re"
      ],
      "execution_count": 1,
      "outputs": []
    },
    {
      "cell_type": "code",
      "metadata": {
        "colab": {
          "base_uri": "https://localhost:8080/"
        },
        "id": "rH3OUtry6LTA",
        "outputId": "b98483ed-5f01-43f4-807d-c8cfb5237f2e"
      },
      "source": [
        "nltk.download('punkt')\r\n",
        "nltk.download('wordnet')\r\n",
        "nltk.download('stopwords')"
      ],
      "execution_count": 2,
      "outputs": [
        {
          "output_type": "stream",
          "text": [
            "[nltk_data] Downloading package punkt to /root/nltk_data...\n",
            "[nltk_data]   Unzipping tokenizers/punkt.zip.\n",
            "[nltk_data] Downloading package wordnet to /root/nltk_data...\n",
            "[nltk_data]   Unzipping corpora/wordnet.zip.\n",
            "[nltk_data] Downloading package stopwords to /root/nltk_data...\n",
            "[nltk_data]   Unzipping corpora/stopwords.zip.\n"
          ],
          "name": "stdout"
        },
        {
          "output_type": "execute_result",
          "data": {
            "text/plain": [
              "True"
            ]
          },
          "metadata": {
            "tags": []
          },
          "execution_count": 2
        }
      ]
    },
    {
      "cell_type": "code",
      "metadata": {
        "id": "XOwdRF_zQh8i"
      },
      "source": [
        "intents_file = open('bot.JSON').read()\r\n",
        "intents = json.loads(intents_file)"
      ],
      "execution_count": 3,
      "outputs": []
    },
    {
      "cell_type": "code",
      "metadata": {
        "colab": {
          "base_uri": "https://localhost:8080/"
        },
        "id": "IyJHbAmbQm0F",
        "outputId": "9b7e5056-0116-4a20-caa4-ba16f921289f"
      },
      "source": [
        "print(intents)"
      ],
      "execution_count": 4,
      "outputs": [
        {
          "output_type": "stream",
          "text": [
            "{'intents': [{'tag': 'greeting', 'patterns': ['Hi there', 'Hello', 'Hola', 'Hey', 'Hi', 'Hello', 'Good morning', 'Good afternoon', 'Good Evening'], 'responses': ['Hello, Welcome to EzzyShip Support', 'Hi there, how can I help?', 'Hello,How May I assist you?'], 'context': ['']}, {'tag': 'Deleivery charges', 'patterns': ['What are the delivery charges?', 'Deleivery charges?', 'How much is the deleivery charges?', 'Will i get charged for deleivery?'], 'responses': ['LockTheDeal delivers an order free of cost at your doorstep for all orders above Rs.15000/-. For all orders below Rs.15000, there is a surcharge of 2.5% of the order value.'], 'context': ['']}, {'tag': 'goodbye', 'patterns': ['Bye', 'See you later', 'Goodbye', 'Nice chatting to you, bye', 'Till next time', 'Bye Chatbot'], 'responses': ['See you!', 'Have a nice day', 'Bye! Come back again soon.', 'Happy to help'], 'context': ['']}, {'tag': 'thanks', 'patterns': ['Thanks', 'Thank you', \"That's helpful\", 'Awesome, thanks', 'Thanks for helping me'], 'responses': ['Happy to help! Any other issues?', 'Any time! Any other issues I can help with?', 'My pleasure! Any other Issues I can help with?'], 'context': ['']}]}\n"
          ],
          "name": "stdout"
        }
      ]
    },
    {
      "cell_type": "markdown",
      "metadata": {
        "id": "6Omqc62AW525"
      },
      "source": [
        "## Creating Vocabulary"
      ]
    },
    {
      "cell_type": "code",
      "metadata": {
        "colab": {
          "base_uri": "https://localhost:8080/"
        },
        "id": "reP7zEw--Cfr",
        "outputId": "1c4c6959-d85f-4c55-a7cd-7f4586e038ad"
      },
      "source": [
        "l = []\r\n",
        "for intent in intents['intents']:\r\n",
        "    for pattern in intent['patterns']: \r\n",
        "      a = pattern.lower()\r\n",
        "      token = word_tokenize(a)\r\n",
        "      b = set(token)      \r\n",
        "      l.extend(b) \r\n",
        "vocab = set(l)\r\n",
        "stopwords=[\"to\",\"is\",\"a\"]\r\n",
        "#list of special characters.You can use regular expressions too\r\n",
        "special_char=[\",\",\":\",\" \",\";\",\".\",\"?\", \"'s\"]\r\n",
        "filtered_vocab=[]\r\n",
        "for w in vocab: \r\n",
        "    if w not in stopwords and w not in special_char: \r\n",
        "        filtered_vocab.append(w)\r\n",
        "vocab_dict = {}\r\n",
        "for i in range(len(filtered_vocab)):\r\n",
        "  vocab_dict[i]=filtered_vocab[i]\r\n",
        "print(vocab_dict)       "
      ],
      "execution_count": 44,
      "outputs": [
        {
          "output_type": "stream",
          "text": [
            "{0: 'charges', 1: 'the', 2: 'hey', 3: 'see', 4: 'what', 5: 'hello', 6: 'till', 7: 'evening', 8: 'helpful', 9: 'for', 10: 'goodbye', 11: 'thanks', 12: 'i', 13: 'time', 14: 'next', 15: 'there', 16: 'me', 17: 'hola', 18: 'delivery', 19: 'much', 20: 'nice', 21: 'deleivery', 22: 'awesome', 23: 'charged', 24: 'morning', 25: 'thank', 26: 'you', 27: 'helping', 28: 'hi', 29: 'chatting', 30: 'bye', 31: 'get', 32: 'afternoon', 33: 'good', 34: 'later', 35: 'chatbot', 36: 'how', 37: 'that', 38: 'will', 39: 'are'}\n"
          ],
          "name": "stdout"
        }
      ]
    },
    {
      "cell_type": "markdown",
      "metadata": {
        "id": "fMqR3xDG0R00"
      },
      "source": [
        "## Tokenization"
      ]
    },
    {
      "cell_type": "code",
      "metadata": {
        "colab": {
          "base_uri": "https://localhost:8080/"
        },
        "id": "yX3QgbI5WtTN",
        "outputId": "ee5d3fe1-3ca5-4871-d79b-e1130b22e9c1"
      },
      "source": [
        "sent_vect = []\r\n",
        "tokens = []\r\n",
        "for intent in intents['intents']:\r\n",
        "    for pattern in intent['patterns']: \r\n",
        "      token_ = sent_tokenize(pattern)\r\n",
        "      tokens.append(token_)\r\n",
        "print(tokens)\r\n",
        "        \r\n",
        "\r\n"
      ],
      "execution_count": 45,
      "outputs": [
        {
          "output_type": "stream",
          "text": [
            "[['Hi there'], ['Hello'], ['Hola'], ['Hey'], ['Hi'], ['Hello'], ['Good morning'], ['Good afternoon'], ['Good Evening'], ['What are the delivery charges?'], ['Deleivery charges?'], ['How much is the deleivery charges?'], ['Will i get charged for deleivery?'], ['Bye'], ['See you later'], ['Goodbye'], ['Nice chatting to you, bye'], ['Till next time'], ['Bye Chatbot'], ['Thanks'], ['Thank you'], [\"That's helpful\"], ['Awesome, thanks'], ['Thanks for helping me']]\n"
          ],
          "name": "stdout"
        }
      ]
    },
    {
      "cell_type": "markdown",
      "metadata": {
        "id": "AOIuPK_t0WF2"
      },
      "source": [
        "## Representing sentences into vector"
      ]
    },
    {
      "cell_type": "code",
      "metadata": {
        "id": "IGFEUpkpXRha",
        "colab": {
          "base_uri": "https://localhost:8080/"
        },
        "outputId": "e85d4148-ece3-43ec-f170-12e8bc99d34d"
      },
      "source": [
        "vec_dict = {}\r\n",
        "for i in tokens:\r\n",
        "  vec = []\r\n",
        "  for j in filtered_vocab:\r\n",
        "    count=0\r\n",
        "    if j.lower() in i[0].lower().split():\r\n",
        "      count+=1\r\n",
        "    vec.append(count)\r\n",
        "  vec_dict[i[0]] = vec\r\n",
        "print(vec_dict)\r\n",
        "  "
      ],
      "execution_count": 68,
      "outputs": [
        {
          "output_type": "stream",
          "text": [
            "{'Hi there': [0, 0, 0, 0, 0, 0, 0, 0, 0, 0, 0, 0, 0, 0, 0, 1, 0, 0, 0, 0, 0, 0, 0, 0, 0, 0, 0, 0, 1, 0, 0, 0, 0, 0, 0, 0, 0, 0, 0, 0], 'Hello': [0, 0, 0, 0, 0, 1, 0, 0, 0, 0, 0, 0, 0, 0, 0, 0, 0, 0, 0, 0, 0, 0, 0, 0, 0, 0, 0, 0, 0, 0, 0, 0, 0, 0, 0, 0, 0, 0, 0, 0], 'Hola': [0, 0, 0, 0, 0, 0, 0, 0, 0, 0, 0, 0, 0, 0, 0, 0, 0, 1, 0, 0, 0, 0, 0, 0, 0, 0, 0, 0, 0, 0, 0, 0, 0, 0, 0, 0, 0, 0, 0, 0], 'Hey': [0, 0, 1, 0, 0, 0, 0, 0, 0, 0, 0, 0, 0, 0, 0, 0, 0, 0, 0, 0, 0, 0, 0, 0, 0, 0, 0, 0, 0, 0, 0, 0, 0, 0, 0, 0, 0, 0, 0, 0], 'Hi': [0, 0, 0, 0, 0, 0, 0, 0, 0, 0, 0, 0, 0, 0, 0, 0, 0, 0, 0, 0, 0, 0, 0, 0, 0, 0, 0, 0, 1, 0, 0, 0, 0, 0, 0, 0, 0, 0, 0, 0], 'Good morning': [0, 0, 0, 0, 0, 0, 0, 0, 0, 0, 0, 0, 0, 0, 0, 0, 0, 0, 0, 0, 0, 0, 0, 0, 1, 0, 0, 0, 0, 0, 0, 0, 0, 1, 0, 0, 0, 0, 0, 0], 'Good afternoon': [0, 0, 0, 0, 0, 0, 0, 0, 0, 0, 0, 0, 0, 0, 0, 0, 0, 0, 0, 0, 0, 0, 0, 0, 0, 0, 0, 0, 0, 0, 0, 0, 1, 1, 0, 0, 0, 0, 0, 0], 'Good Evening': [0, 0, 0, 0, 0, 0, 0, 1, 0, 0, 0, 0, 0, 0, 0, 0, 0, 0, 0, 0, 0, 0, 0, 0, 0, 0, 0, 0, 0, 0, 0, 0, 0, 1, 0, 0, 0, 0, 0, 0], 'What are the delivery charges?': [0, 1, 0, 0, 1, 0, 0, 0, 0, 0, 0, 0, 0, 0, 0, 0, 0, 0, 1, 0, 0, 0, 0, 0, 0, 0, 0, 0, 0, 0, 0, 0, 0, 0, 0, 0, 0, 0, 0, 1], 'Deleivery charges?': [0, 0, 0, 0, 0, 0, 0, 0, 0, 0, 0, 0, 0, 0, 0, 0, 0, 0, 0, 0, 0, 1, 0, 0, 0, 0, 0, 0, 0, 0, 0, 0, 0, 0, 0, 0, 0, 0, 0, 0], 'How much is the deleivery charges?': [0, 1, 0, 0, 0, 0, 0, 0, 0, 0, 0, 0, 0, 0, 0, 0, 0, 0, 0, 1, 0, 1, 0, 0, 0, 0, 0, 0, 0, 0, 0, 0, 0, 0, 0, 0, 1, 0, 0, 0], 'Will i get charged for deleivery?': [0, 0, 0, 0, 0, 0, 0, 0, 0, 1, 0, 0, 1, 0, 0, 0, 0, 0, 0, 0, 0, 0, 0, 1, 0, 0, 0, 0, 0, 0, 0, 1, 0, 0, 0, 0, 0, 0, 1, 0], 'Bye': [0, 0, 0, 0, 0, 0, 0, 0, 0, 0, 0, 0, 0, 0, 0, 0, 0, 0, 0, 0, 0, 0, 0, 0, 0, 0, 0, 0, 0, 0, 1, 0, 0, 0, 0, 0, 0, 0, 0, 0], 'See you later': [0, 0, 0, 1, 0, 0, 0, 0, 0, 0, 0, 0, 0, 0, 0, 0, 0, 0, 0, 0, 0, 0, 0, 0, 0, 0, 1, 0, 0, 0, 0, 0, 0, 0, 1, 0, 0, 0, 0, 0], 'Goodbye': [0, 0, 0, 0, 0, 0, 0, 0, 0, 0, 1, 0, 0, 0, 0, 0, 0, 0, 0, 0, 0, 0, 0, 0, 0, 0, 0, 0, 0, 0, 0, 0, 0, 0, 0, 0, 0, 0, 0, 0], 'Nice chatting to you, bye': [0, 0, 0, 0, 0, 0, 0, 0, 0, 0, 0, 0, 0, 0, 0, 0, 0, 0, 0, 0, 1, 0, 0, 0, 0, 0, 0, 0, 0, 1, 1, 0, 0, 0, 0, 0, 0, 0, 0, 0], 'Till next time': [0, 0, 0, 0, 0, 0, 1, 0, 0, 0, 0, 0, 0, 1, 1, 0, 0, 0, 0, 0, 0, 0, 0, 0, 0, 0, 0, 0, 0, 0, 0, 0, 0, 0, 0, 0, 0, 0, 0, 0], 'Bye Chatbot': [0, 0, 0, 0, 0, 0, 0, 0, 0, 0, 0, 0, 0, 0, 0, 0, 0, 0, 0, 0, 0, 0, 0, 0, 0, 0, 0, 0, 0, 0, 1, 0, 0, 0, 0, 1, 0, 0, 0, 0], 'Thanks': [0, 0, 0, 0, 0, 0, 0, 0, 0, 0, 0, 1, 0, 0, 0, 0, 0, 0, 0, 0, 0, 0, 0, 0, 0, 0, 0, 0, 0, 0, 0, 0, 0, 0, 0, 0, 0, 0, 0, 0], 'Thank you': [0, 0, 0, 0, 0, 0, 0, 0, 0, 0, 0, 0, 0, 0, 0, 0, 0, 0, 0, 0, 0, 0, 0, 0, 0, 1, 1, 0, 0, 0, 0, 0, 0, 0, 0, 0, 0, 0, 0, 0], \"That's helpful\": [0, 0, 0, 0, 0, 0, 0, 0, 1, 0, 0, 0, 0, 0, 0, 0, 0, 0, 0, 0, 0, 0, 0, 0, 0, 0, 0, 0, 0, 0, 0, 0, 0, 0, 0, 0, 0, 0, 0, 0], 'Awesome, thanks': [0, 0, 0, 0, 0, 0, 0, 0, 0, 0, 0, 1, 0, 0, 0, 0, 0, 0, 0, 0, 0, 0, 0, 0, 0, 0, 0, 0, 0, 0, 0, 0, 0, 0, 0, 0, 0, 0, 0, 0], 'Thanks for helping me': [0, 0, 0, 0, 0, 0, 0, 0, 0, 1, 0, 1, 0, 0, 0, 0, 1, 0, 0, 0, 0, 0, 0, 0, 0, 0, 0, 1, 0, 0, 0, 0, 0, 0, 0, 0, 0, 0, 0, 0]}\n"
          ],
          "name": "stdout"
        }
      ]
    },
    {
      "cell_type": "markdown",
      "metadata": {
        "id": "cLbkghZP0kvP"
      },
      "source": [
        "## Using TF-IDF for similarity"
      ]
    },
    {
      "cell_type": "code",
      "metadata": {
        "id": "Y-75qDDZ6xk1"
      },
      "source": [
        "def tf_idf(vec):\r\n",
        "  print('User input:',vec)\r\n",
        "  print('Number of sent_vector:',vec_dict)\r\n",
        "  for key,value in vec_dict:\r\n",
        "    \r\n",
        "\r\n"
      ],
      "execution_count": null,
      "outputs": []
    },
    {
      "cell_type": "markdown",
      "metadata": {
        "id": "aBB8-xRC6-Du"
      },
      "source": [
        "## Chatbot"
      ]
    },
    {
      "cell_type": "code",
      "metadata": {
        "id": "XohzSyRM9K_j",
        "colab": {
          "base_uri": "https://localhost:8080/"
        },
        "outputId": "4ec518f1-a096-490f-f1dc-58abb425ee6e"
      },
      "source": [
        "def response(message):\r\n",
        "  msg = word_tokenize(message)\r\n",
        "  stop_words=[\"to\",\"is\",\"a\"]\r\n",
        "  #list of special characters.You can use regular expressions too\r\n",
        "  special_char=[\",\",\":\",\" \",\";\",\".\",\"?\", \"'s\"]\r\n",
        "  filtered_lst=[]\r\n",
        "  filtered_lst = [w for w in msg if not w in stop_words and not w in special_char]\r\n",
        "  filtered_sent = ' '\r\n",
        "  filtered_sent = filtered_sent.join(filtered_lst)\r\n",
        "  print(filtered_sent)\r\n",
        "  vec = []\r\n",
        "  for j in filtered_vocab:\r\n",
        "    count=0\r\n",
        "    if j.lower() in filtered_sent.lower().split():\r\n",
        "      \r\n",
        "      count+=1\r\n",
        "    vec.append(count)\r\n",
        "  print(vec)\r\n",
        "  reply = tf_idf(vec)\r\n",
        "  print(reply)\r\n",
        "response('hi, how are you?')\r\n",
        "  \r\n"
      ],
      "execution_count": 63,
      "outputs": [
        {
          "output_type": "stream",
          "text": [
            "hi how are you\n",
            "[0, 0, 0, 0, 0, 0, 0, 0, 0, 0, 0, 0, 0, 0, 0, 0, 0, 0, 0, 0, 0, 0, 0, 0, 0, 0, 1, 0, 1, 0, 0, 0, 0, 0, 0, 0, 1, 0, 0, 1]\n"
          ],
          "name": "stdout"
        }
      ]
    },
    {
      "cell_type": "markdown",
      "metadata": {
        "id": "8m5mtq9FVIsL"
      },
      "source": [
        "## how cosine similarity works\r\n",
        "\r\n",
        "Formula: A.B / MOD[A].MOD[B]"
      ]
    },
    {
      "cell_type": "code",
      "metadata": {
        "id": "XZ7WNn_f-iut",
        "colab": {
          "base_uri": "https://localhost:8080/"
        },
        "outputId": "65bc285e-e126-46db-8702-66fd07d6f8e4"
      },
      "source": [
        "from sklearn.metrics.pairwise import cosine_similarity\r\n",
        "\r\n",
        "vec_a = [0, 0, 0, 0, 0, 0, 0, 0, 0, 0, 0, 0, 0, 0, 0, 0, 0, 0, 0, 0, 0, 0, 0, 0, 0, 0, 1, 0, 1, 0, 0, 0, 0, 0, 0, 0, 1, 0, 0, 1]\r\n",
        "vec_b = [0, 0, 0, 0, 0, 0, 0, 0, 0, 0, 0, 0, 0, 0, 0, 1, 0, 0, 0, 0, 0, 0, 0, 0, 0, 0, 0, 0, 1, 0, 0, 0, 0, 0, 0, 0, 0, 0, 0, 0]\r\n",
        "\r\n",
        "\r\n",
        "\r\n",
        "\r\n",
        "#Using Scikit learn\r\n",
        "print('Scikit-Learn:', cosine_similarity([vec_a], [vec_b]))\r\n",
        " \r\n",
        "\r\n",
        "\r\n",
        "\r\n"
      ],
      "execution_count": 98,
      "outputs": [
        {
          "output_type": "stream",
          "text": [
            "manually: 0.35355339059327373\n",
            "Scikit-Learn: [[0.35355339]]\n"
          ],
          "name": "stdout"
        }
      ]
    },
    {
      "cell_type": "code",
      "metadata": {
        "id": "qr_q3Iw0_Hzr",
        "colab": {
          "base_uri": "https://localhost:8080/",
          "height": 129
        },
        "outputId": "5c6e1609-5e3f-41ac-8949-38650631e94e"
      },
      "source": [
        ""
      ],
      "execution_count": 81,
      "outputs": [
        {
          "output_type": "error",
          "ename": "IndentationError",
          "evalue": "ignored",
          "traceback": [
            "\u001b[0;36m  File \u001b[0;32m\"<ipython-input-81-35e389cb772b>\"\u001b[0;36m, line \u001b[0;32m28\u001b[0m\n\u001b[0;31m    if w in Y_set: l2.append(1)\u001b[0m\n\u001b[0m    ^\u001b[0m\n\u001b[0;31mIndentationError\u001b[0m\u001b[0;31m:\u001b[0m unexpected indent\n"
          ]
        }
      ]
    },
    {
      "cell_type": "code",
      "metadata": {
        "id": "AtB3xZgt_bur"
      },
      "source": [
        "import numpy as np\r\n",
        "a = np.array([1,2,3])"
      ],
      "execution_count": 87,
      "outputs": []
    },
    {
      "cell_type": "code",
      "metadata": {
        "colab": {
          "base_uri": "https://localhost:8080/"
        },
        "id": "AmTJ5Z8wTBgu",
        "outputId": "f623a864-c911-4f2e-84c9-1af6370b580e"
      },
      "source": [
        "a"
      ],
      "execution_count": 88,
      "outputs": [
        {
          "output_type": "execute_result",
          "data": {
            "text/plain": [
              "array([1, 2, 3])"
            ]
          },
          "metadata": {
            "tags": []
          },
          "execution_count": 88
        }
      ]
    },
    {
      "cell_type": "code",
      "metadata": {
        "id": "Oe4IlHTlTBcI"
      },
      "source": [
        ""
      ],
      "execution_count": null,
      "outputs": []
    },
    {
      "cell_type": "code",
      "metadata": {
        "id": "EzT8jxtfTBYR"
      },
      "source": [
        ""
      ],
      "execution_count": null,
      "outputs": []
    },
    {
      "cell_type": "code",
      "metadata": {
        "id": "s2Qniypo_qhU"
      },
      "source": [
        ""
      ],
      "execution_count": 47,
      "outputs": []
    },
    {
      "cell_type": "code",
      "metadata": {
        "id": "TebYTztKT8-2"
      },
      "source": [
        ""
      ],
      "execution_count": null,
      "outputs": []
    },
    {
      "cell_type": "code",
      "metadata": {
        "id": "n5nWRHNLUFQa"
      },
      "source": [
        ""
      ],
      "execution_count": null,
      "outputs": []
    },
    {
      "cell_type": "code",
      "metadata": {
        "id": "OLX5DOyJUFnH"
      },
      "source": [
        ""
      ],
      "execution_count": null,
      "outputs": []
    },
    {
      "cell_type": "code",
      "metadata": {
        "id": "2DmW3d8JUG6S"
      },
      "source": [
        ""
      ],
      "execution_count": null,
      "outputs": []
    },
    {
      "cell_type": "code",
      "metadata": {
        "id": "1gmTRcCHULRM"
      },
      "source": [
        ""
      ],
      "execution_count": null,
      "outputs": []
    },
    {
      "cell_type": "code",
      "metadata": {
        "id": "zIeE1sR-UMXG"
      },
      "source": [
        ""
      ],
      "execution_count": null,
      "outputs": []
    }
  ]
}