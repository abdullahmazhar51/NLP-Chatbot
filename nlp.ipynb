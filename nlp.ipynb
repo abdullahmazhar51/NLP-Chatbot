{
  "nbformat": 4,
  "nbformat_minor": 0,
  "metadata": {
    "colab": {
      "name": "nlp",
      "provenance": [],
      "authorship_tag": "ABX9TyPiL57kGdTF/mzUgis/RAPF",
      "include_colab_link": true
    },
    "kernelspec": {
      "name": "python3",
      "display_name": "Python 3"
    }
  },
  "cells": [
    {
      "cell_type": "markdown",
      "metadata": {
        "id": "view-in-github",
        "colab_type": "text"
      },
      "source": [
        "<a href=\"https://colab.research.google.com/github/abdullahmazhar51/Pattern-program/blob/master/nlp.ipynb\" target=\"_parent\"><img src=\"https://colab.research.google.com/assets/colab-badge.svg\" alt=\"Open In Colab\"/></a>"
      ]
    },
    {
      "cell_type": "code",
      "metadata": {
        "id": "2TUUM62xhBuF",
        "colab_type": "code",
        "colab": {}
      },
      "source": [
        "from nltk.tokenize import word_tokenize"
      ],
      "execution_count": 0,
      "outputs": []
    },
    {
      "cell_type": "code",
      "metadata": {
        "id": "fiG8_JujhgpD",
        "colab_type": "code",
        "colab": {
          "base_uri": "https://localhost:8080/",
          "height": 67
        },
        "outputId": "1feecfc5-7ee0-4d58-af1d-c271e562eb4b"
      },
      "source": [
        "import nltk\n",
        "nltk.download('punkt')"
      ],
      "execution_count": 7,
      "outputs": [
        {
          "output_type": "stream",
          "text": [
            "[nltk_data] Downloading package punkt to /root/nltk_data...\n",
            "[nltk_data]   Unzipping tokenizers/punkt.zip.\n"
          ],
          "name": "stdout"
        },
        {
          "output_type": "execute_result",
          "data": {
            "text/plain": [
              "True"
            ]
          },
          "metadata": {
            "tags": []
          },
          "execution_count": 7
        }
      ]
    },
    {
      "cell_type": "code",
      "metadata": {
        "id": "mn8jzFXOhIf2",
        "colab_type": "code",
        "colab": {}
      },
      "source": [
        "text = \"my name is khan! and i am not a terrorist :)\""
      ],
      "execution_count": 0,
      "outputs": []
    },
    {
      "cell_type": "code",
      "metadata": {
        "id": "89HA-qSmhP5P",
        "colab_type": "code",
        "colab": {
          "base_uri": "https://localhost:8080/",
          "height": 34
        },
        "outputId": "4ceebba4-44cd-49ba-a6ea-5bb4cd1b24ea"
      },
      "source": [
        "print(word_tokenize(text))"
      ],
      "execution_count": 9,
      "outputs": [
        {
          "output_type": "stream",
          "text": [
            "['my', 'name', 'is', 'khan', '!', 'and', 'i', 'am', 'not', 'a', 'terrorist', ':', ')']\n"
          ],
          "name": "stdout"
        }
      ]
    },
    {
      "cell_type": "code",
      "metadata": {
        "id": "VvUNeHdMhU4R",
        "colab_type": "code",
        "colab": {}
      },
      "source": [
        "import re\n",
        "import numpy as np\n"
      ],
      "execution_count": 0,
      "outputs": []
    },
    {
      "cell_type": "code",
      "metadata": {
        "id": "sZE70ILhkt4U",
        "colab_type": "code",
        "colab": {}
      },
      "source": [
        "text = [\"Beans. I was trying to explain to somebody as we were flying in, thatâ€™s corn. Thatâ€™s beans. And they were very impressed at my agricultural knowledge. Please give it up for Amaury once again for that outstanding introduction. I have a bunch of good friends here today, including somebody who I served with, who is one of the finest senators in the country, and weâ€™re lucky to have him, your Senator, Dick Durbin is here. I also noticed, by the way, former Governor Edgar here, who I havenâ€™t seen in a long time, and somehow he has not aged and I have. And itâ€™s great to see you, Governor. I want to thank President Killeen and everybody at the U of I System for making it possible for me to be here today. And I am deeply honored at the Paul Douglas Award that is being given to me. He is somebody who set the path for so much outstanding public service here in Illinois. Now, I want to start by addressing the elephant in the room. I know people are still wondering why I didnâ€™t speak at the commencement.\"]"
      ],
      "execution_count": 0,
      "outputs": []
    },
    {
      "cell_type": "code",
      "metadata": {
        "id": "kSqrt7Lnk9Tz",
        "colab_type": "code",
        "colab": {}
      },
      "source": [
        "from nltk.tokenize import sent_tokenize"
      ],
      "execution_count": 0,
      "outputs": []
    },
    {
      "cell_type": "code",
      "metadata": {
        "id": "WUWtVdOslQsL",
        "colab_type": "code",
        "colab": {}
      },
      "source": [
        "for i in range(len(text)):\n",
        "  text[i] = text[i].lower()\n",
        "  text[i] = re.sub(r'\\W', ' ', text[i])\n",
        "  text[i] = re.sub(r'\\s+', ' ', text[i])"
      ],
      "execution_count": 0,
      "outputs": []
    },
    {
      "cell_type": "code",
      "metadata": {
        "id": "XDoccxnUmgkl",
        "colab_type": "code",
        "colab": {
          "base_uri": "https://localhost:8080/",
          "height": 54
        },
        "outputId": "79103961-b244-4f24-ef01-44874255ad74"
      },
      "source": [
        "print(text)"
      ],
      "execution_count": 32,
      "outputs": [
        {
          "output_type": "stream",
          "text": [
            "['beans i was trying to explain to somebody as we were flying in thatâ s corn thatâ s beans and they were very impressed at my agricultural knowledge please give it up for amaury once again for that outstanding introduction i have a bunch of good friends here today including somebody who i served with who is one of the finest senators in the country and weâ re lucky to have him your senator dick durbin is here i also noticed by the way former governor edgar here who i havenâ t seen in a long time and somehow he has not aged and i have and itâ s great to see you governor i want to thank president killeen and everybody at the u of i system for making it possible for me to be here today and i am deeply honored at the paul douglas award that is being given to me he is somebody who set the path for so much outstanding public service here in illinois now i want to start by addressing the elephant in the room i know people are still wondering why i didnâ t speak at the commencement ']\n"
          ],
          "name": "stdout"
        }
      ]
    },
    {
      "cell_type": "code",
      "metadata": {
        "id": "af1B4T6im2ip",
        "colab_type": "code",
        "colab": {}
      },
      "source": [
        "word2count = {}\n",
        "for text in dataset:\n",
        "  words = nltk.word_tokenize(text)\n",
        "  for word in words:\n",
        "    if word not in word2count.keys():\n",
        "      word2count[word] = 1\n",
        "    else:\n",
        "      word2count[word]+=1"
      ],
      "execution_count": 0,
      "outputs": []
    },
    {
      "cell_type": "code",
      "metadata": {
        "id": "uZZWFptho-9T",
        "colab_type": "code",
        "colab": {
          "base_uri": "https://localhost:8080/",
          "height": 1000
        },
        "outputId": "70c28ccc-d71b-4e11-88cf-7ab22d614a2d"
      },
      "source": [
        "word2count"
      ],
      "execution_count": 34,
      "outputs": [
        {
          "output_type": "execute_result",
          "data": {
            "text/plain": [
              "{'a': 2,\n",
              " 'addressing': 1,\n",
              " 'again': 1,\n",
              " 'aged': 1,\n",
              " 'agricultural': 1,\n",
              " 'also': 1,\n",
              " 'am': 1,\n",
              " 'amaury': 1,\n",
              " 'and': 7,\n",
              " 'are': 1,\n",
              " 'as': 1,\n",
              " 'at': 4,\n",
              " 'award': 1,\n",
              " 'be': 1,\n",
              " 'beans': 2,\n",
              " 'being': 1,\n",
              " 'bunch': 1,\n",
              " 'by': 2,\n",
              " 'commencement': 1,\n",
              " 'corn': 1,\n",
              " 'country': 1,\n",
              " 'deeply': 1,\n",
              " 'dick': 1,\n",
              " 'didnâ': 1,\n",
              " 'douglas': 1,\n",
              " 'durbin': 1,\n",
              " 'edgar': 1,\n",
              " 'elephant': 1,\n",
              " 'everybody': 1,\n",
              " 'explain': 1,\n",
              " 'finest': 1,\n",
              " 'flying': 1,\n",
              " 'for': 5,\n",
              " 'former': 1,\n",
              " 'friends': 1,\n",
              " 'give': 1,\n",
              " 'given': 1,\n",
              " 'good': 1,\n",
              " 'governor': 2,\n",
              " 'great': 1,\n",
              " 'has': 1,\n",
              " 'have': 3,\n",
              " 'havenâ': 1,\n",
              " 'he': 2,\n",
              " 'here': 5,\n",
              " 'him': 1,\n",
              " 'honored': 1,\n",
              " 'i': 12,\n",
              " 'illinois': 1,\n",
              " 'impressed': 1,\n",
              " 'in': 5,\n",
              " 'including': 1,\n",
              " 'introduction': 1,\n",
              " 'is': 4,\n",
              " 'it': 2,\n",
              " 'itâ': 1,\n",
              " 'killeen': 1,\n",
              " 'know': 1,\n",
              " 'knowledge': 1,\n",
              " 'long': 1,\n",
              " 'lucky': 1,\n",
              " 'making': 1,\n",
              " 'me': 2,\n",
              " 'much': 1,\n",
              " 'my': 1,\n",
              " 'not': 1,\n",
              " 'noticed': 1,\n",
              " 'now': 1,\n",
              " 'of': 3,\n",
              " 'once': 1,\n",
              " 'one': 1,\n",
              " 'outstanding': 2,\n",
              " 'path': 1,\n",
              " 'paul': 1,\n",
              " 'people': 1,\n",
              " 'please': 1,\n",
              " 'possible': 1,\n",
              " 'president': 1,\n",
              " 'public': 1,\n",
              " 're': 1,\n",
              " 'room': 1,\n",
              " 's': 3,\n",
              " 'see': 1,\n",
              " 'seen': 1,\n",
              " 'senator': 1,\n",
              " 'senators': 1,\n",
              " 'served': 1,\n",
              " 'service': 1,\n",
              " 'set': 1,\n",
              " 'so': 1,\n",
              " 'somebody': 3,\n",
              " 'somehow': 1,\n",
              " 'speak': 1,\n",
              " 'start': 1,\n",
              " 'still': 1,\n",
              " 'system': 1,\n",
              " 't': 2,\n",
              " 'thank': 1,\n",
              " 'that': 2,\n",
              " 'thatâ': 2,\n",
              " 'the': 9,\n",
              " 'they': 1,\n",
              " 'time': 1,\n",
              " 'to': 8,\n",
              " 'today': 2,\n",
              " 'trying': 1,\n",
              " 'u': 1,\n",
              " 'up': 1,\n",
              " 'very': 1,\n",
              " 'want': 2,\n",
              " 'was': 1,\n",
              " 'way': 1,\n",
              " 'we': 1,\n",
              " 'were': 2,\n",
              " 'weâ': 1,\n",
              " 'who': 4,\n",
              " 'why': 1,\n",
              " 'with': 1,\n",
              " 'wondering': 1,\n",
              " 'you': 1,\n",
              " 'your': 1}"
            ]
          },
          "metadata": {
            "tags": []
          },
          "execution_count": 34
        }
      ]
    },
    {
      "cell_type": "code",
      "metadata": {
        "id": "fM_0QZLBpBdo",
        "colab_type": "code",
        "colab": {}
      },
      "source": [
        "import heapq\n",
        "freq_words = heapq.nlargest(100, word2count, key =word2count.get)"
      ],
      "execution_count": 0,
      "outputs": []
    },
    {
      "cell_type": "code",
      "metadata": {
        "id": "Dm5_4n8kpsHs",
        "colab_type": "code",
        "colab": {
          "base_uri": "https://localhost:8080/",
          "height": 1000
        },
        "outputId": "d6d0b419-6693-4984-972e-1c127a5c5a7e"
      },
      "source": [
        "freq_words"
      ],
      "execution_count": 36,
      "outputs": [
        {
          "output_type": "execute_result",
          "data": {
            "text/plain": [
              "['i',\n",
              " 'the',\n",
              " 'to',\n",
              " 'and',\n",
              " 'in',\n",
              " 'for',\n",
              " 'here',\n",
              " 'at',\n",
              " 'who',\n",
              " 'is',\n",
              " 'somebody',\n",
              " 's',\n",
              " 'have',\n",
              " 'of',\n",
              " 'beans',\n",
              " 'were',\n",
              " 'thatâ',\n",
              " 'it',\n",
              " 'that',\n",
              " 'outstanding',\n",
              " 'a',\n",
              " 'today',\n",
              " 'by',\n",
              " 'governor',\n",
              " 't',\n",
              " 'he',\n",
              " 'want',\n",
              " 'me',\n",
              " 'was',\n",
              " 'trying',\n",
              " 'explain',\n",
              " 'as',\n",
              " 'we',\n",
              " 'flying',\n",
              " 'corn',\n",
              " 'they',\n",
              " 'very',\n",
              " 'impressed',\n",
              " 'my',\n",
              " 'agricultural',\n",
              " 'knowledge',\n",
              " 'please',\n",
              " 'give',\n",
              " 'up',\n",
              " 'amaury',\n",
              " 'once',\n",
              " 'again',\n",
              " 'introduction',\n",
              " 'bunch',\n",
              " 'good',\n",
              " 'friends',\n",
              " 'including',\n",
              " 'served',\n",
              " 'with',\n",
              " 'one',\n",
              " 'finest',\n",
              " 'senators',\n",
              " 'country',\n",
              " 'weâ',\n",
              " 're',\n",
              " 'lucky',\n",
              " 'him',\n",
              " 'your',\n",
              " 'senator',\n",
              " 'dick',\n",
              " 'durbin',\n",
              " 'also',\n",
              " 'noticed',\n",
              " 'way',\n",
              " 'former',\n",
              " 'edgar',\n",
              " 'havenâ',\n",
              " 'seen',\n",
              " 'long',\n",
              " 'time',\n",
              " 'somehow',\n",
              " 'has',\n",
              " 'not',\n",
              " 'aged',\n",
              " 'itâ',\n",
              " 'great',\n",
              " 'see',\n",
              " 'you',\n",
              " 'thank',\n",
              " 'president',\n",
              " 'killeen',\n",
              " 'everybody',\n",
              " 'u',\n",
              " 'system',\n",
              " 'making',\n",
              " 'possible',\n",
              " 'be',\n",
              " 'am',\n",
              " 'deeply',\n",
              " 'honored',\n",
              " 'paul',\n",
              " 'douglas',\n",
              " 'award',\n",
              " 'being',\n",
              " 'given']"
            ]
          },
          "metadata": {
            "tags": []
          },
          "execution_count": 36
        }
      ]
    },
    {
      "cell_type": "code",
      "metadata": {
        "id": "DkEN4Nxhpt7Y",
        "colab_type": "code",
        "colab": {}
      },
      "source": [
        "x = []\n",
        "for text in dataset:\n",
        "  vector = []\n",
        "  for word in freq_words:\n",
        "    if word in nltk.word_tokenize(text):\n",
        "      vector.append(1)\n",
        "    else:\n",
        "      vector.append(0)\n",
        "  x.append(vector)\n",
        "x = np.asarray(x)"
      ],
      "execution_count": 0,
      "outputs": []
    },
    {
      "cell_type": "code",
      "metadata": {
        "id": "OF-t38llqMD6",
        "colab_type": "code",
        "colab": {
          "base_uri": "https://localhost:8080/",
          "height": 101
        },
        "outputId": "e5d1b17b-bffb-4358-ff05-d93b76946d3d"
      },
      "source": [
        "x"
      ],
      "execution_count": 38,
      "outputs": [
        {
          "output_type": "execute_result",
          "data": {
            "text/plain": [
              "array([[1, 1, 1, 1, 1, 1, 1, 1, 1, 1, 1, 1, 1, 1, 1, 1, 1, 1, 1, 1, 1, 1,\n",
              "        1, 1, 1, 1, 1, 1, 1, 1, 1, 1, 1, 1, 1, 1, 1, 1, 1, 1, 1, 1, 1, 1,\n",
              "        1, 1, 1, 1, 1, 1, 1, 1, 1, 1, 1, 1, 1, 1, 1, 1, 1, 1, 1, 1, 1, 1,\n",
              "        1, 1, 1, 1, 1, 1, 1, 1, 1, 1, 1, 1, 1, 1, 1, 1, 1, 1, 1, 1, 1, 1,\n",
              "        1, 1, 1, 1, 1, 1, 1, 1, 1, 1, 1, 1]])"
            ]
          },
          "metadata": {
            "tags": []
          },
          "execution_count": 38
        }
      ]
    },
    {
      "cell_type": "code",
      "metadata": {
        "id": "Dae5lh4CqSqZ",
        "colab_type": "code",
        "colab": {}
      },
      "source": [
        ""
      ],
      "execution_count": 0,
      "outputs": []
    }
  ]
}